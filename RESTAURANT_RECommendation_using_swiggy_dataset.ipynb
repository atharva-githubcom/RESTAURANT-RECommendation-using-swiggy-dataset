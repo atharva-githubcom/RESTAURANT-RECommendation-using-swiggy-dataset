{
  "nbformat": 4,
  "nbformat_minor": 0,
  "metadata": {
    "colab": {
      "provenance": [],
      "toc_visible": true,
      "authorship_tag": "ABX9TyNpD2AF5ZcArGVedzppSCAs",
      "include_colab_link": true
    },
    "kernelspec": {
      "name": "python3",
      "display_name": "Python 3"
    },
    "language_info": {
      "name": "python"
    }
  },
  "cells": [
    {
      "cell_type": "markdown",
      "metadata": {
        "id": "view-in-github",
        "colab_type": "text"
      },
      "source": [
        "<a href=\"https://colab.research.google.com/github/atharva-githubcom/restaurant-recommendation-using-swiggy-dataset/blob/main/RESTAURANT_RECommendation_using_swiggy_dataset.ipynb\" target=\"_parent\"><img src=\"https://colab.research.google.com/assets/colab-badge.svg\" alt=\"Open In Colab\"/></a>"
      ]
    },
    {
      "cell_type": "code",
      "source": [
        "from google.colab import drive\n",
        "drive.mount('/content/drive')"
      ],
      "metadata": {
        "colab": {
          "base_uri": "https://localhost:8080/"
        },
        "id": "kZNsvvx73ghG",
        "outputId": "2365d271-32e9-415a-9467-de790a1a6bfe"
      },
      "execution_count": 1,
      "outputs": [
        {
          "output_type": "stream",
          "name": "stdout",
          "text": [
            "Mounted at /content/drive\n"
          ]
        }
      ]
    },
    {
      "cell_type": "code",
      "source": [
        "pip install scikit-learn"
      ],
      "metadata": {
        "colab": {
          "base_uri": "https://localhost:8080/"
        },
        "id": "gXz0lJcZ3shc",
        "outputId": "81b83abf-7520-45e0-976b-e4371f35e58d"
      },
      "execution_count": 2,
      "outputs": [
        {
          "output_type": "stream",
          "name": "stdout",
          "text": [
            "Requirement already satisfied: scikit-learn in /usr/local/lib/python3.10/dist-packages (1.2.2)\n",
            "Requirement already satisfied: numpy>=1.17.3 in /usr/local/lib/python3.10/dist-packages (from scikit-learn) (1.23.5)\n",
            "Requirement already satisfied: scipy>=1.3.2 in /usr/local/lib/python3.10/dist-packages (from scikit-learn) (1.11.4)\n",
            "Requirement already satisfied: joblib>=1.1.1 in /usr/local/lib/python3.10/dist-packages (from scikit-learn) (1.3.2)\n",
            "Requirement already satisfied: threadpoolctl>=2.0.0 in /usr/local/lib/python3.10/dist-packages (from scikit-learn) (3.2.0)\n"
          ]
        }
      ]
    },
    {
      "cell_type": "code",
      "source": [
        "import pandas as pd\n",
        "from sklearn.model_selection import train_test_split\n",
        "from sklearn.feature_extraction.text import TfidfVectorizer\n",
        "from sklearn.metrics.pairwise import linear_kernel"
      ],
      "metadata": {
        "id": "Dt7_72UZ4SIU"
      },
      "execution_count": 3,
      "outputs": []
    },
    {
      "cell_type": "code",
      "source": [
        "# Replace 'your_dataset.csv' with the actual path to your CSV file\n",
        "df = pd.read_csv('/content/drive/MyDrive/swiggy.csv')"
      ],
      "metadata": {
        "id": "ZPHKtXcS4XAD"
      },
      "execution_count": 4,
      "outputs": []
    },
    {
      "cell_type": "code",
      "source": [
        "# Assuming 'Resturant' and 'Food type' are relevant for recommendations\n",
        "features = ['Restaurant', 'Food type', 'Avg ratings', 'Price', 'City']"
      ],
      "metadata": {
        "id": "4fEd13Gy4j5u"
      },
      "execution_count": 10,
      "outputs": []
    },
    {
      "cell_type": "code",
      "source": [
        "print(df.columns)"
      ],
      "metadata": {
        "colab": {
          "base_uri": "https://localhost:8080/"
        },
        "id": "377yG-v85QOW",
        "outputId": "4c9c7b1f-2522-4aad-fd62-1755a8f28c41"
      },
      "execution_count": 9,
      "outputs": [
        {
          "output_type": "stream",
          "name": "stdout",
          "text": [
            "Index(['ID', 'Area', 'City', 'Restaurant', 'Price', 'Avg ratings',\n",
            "       'Total ratings', 'Food type', 'Address', 'Delivery time'],\n",
            "      dtype='object')\n"
          ]
        }
      ]
    },
    {
      "cell_type": "code",
      "source": [
        "# Drop rows with missing values in the selected features\n",
        "df = df.dropna(subset=features)"
      ],
      "metadata": {
        "id": "9s5zsClV4ng1"
      },
      "execution_count": 11,
      "outputs": []
    },
    {
      "cell_type": "code",
      "source": [
        "df['combined_features'] = df[features].apply(lambda row: ' '.join(row.values.astype(str)), axis=1)"
      ],
      "metadata": {
        "id": "tZ0o_qX25fFV"
      },
      "execution_count": 12,
      "outputs": []
    },
    {
      "cell_type": "code",
      "source": [
        "# Step 3: Split the data into training and testing sets\n",
        "train_data, test_data = train_test_split(df, test_size=0.2, random_state=42)"
      ],
      "metadata": {
        "id": "Kg3IajZk5kZS"
      },
      "execution_count": 13,
      "outputs": []
    },
    {
      "cell_type": "code",
      "source": [
        "# Step 4: Create TF-IDF vectors for the combined features\n",
        "tfidf_vectorizer = TfidfVectorizer(stop_words='english')\n",
        "tfidf_matrix_train = tfidf_vectorizer.fit_transform(train_data['combined_features'])\n",
        "tfidf_matrix_test = tfidf_vectorizer.transform(test_data['combined_features'])"
      ],
      "metadata": {
        "id": "ncOEXUgC5omR"
      },
      "execution_count": 14,
      "outputs": []
    },
    {
      "cell_type": "code",
      "source": [
        "# Step 5: Calculate cosine similarity between items\n",
        "cosine_similarities = linear_kernel(tfidf_matrix_test, tfidf_matrix_train)"
      ],
      "metadata": {
        "id": "h1wMmi_U5ss3"
      },
      "execution_count": 15,
      "outputs": []
    },
    {
      "cell_type": "code",
      "source": [
        "# Let's say, for example, we want recommendations for the first test data point\n",
        "test_index = 0\n",
        "similar_restaurants = list(enumerate(cosine_similarities[test_index]))"
      ],
      "metadata": {
        "id": "zyWWTLwx55ke"
      },
      "execution_count": 16,
      "outputs": []
    },
    {
      "cell_type": "code",
      "source": [
        "# Sort the restaurants based on similarity scores\n",
        "sorted_restaurants = sorted(similar_restaurants, key=lambda x: x[1], reverse=True)"
      ],
      "metadata": {
        "id": "kvBwHyKx59tN"
      },
      "execution_count": 17,
      "outputs": []
    },
    {
      "cell_type": "code",
      "source": [
        "# Print top 5 recommendations\n",
        "top_recommendations = sorted_restaurants[1:10]\n",
        "for index, score in top_recommendations:\n",
        "    print(f\"Restaurant: {train_data.iloc[index]['Restaurant']}, Similarity Score: {score}\")"
      ],
      "metadata": {
        "colab": {
          "base_uri": "https://localhost:8080/"
        },
        "id": "vtGYbE1O6Ksc",
        "outputId": "51657c31-d0e3-46c7-f361-02a4e36070e7"
      },
      "execution_count": 20,
      "outputs": [
        {
          "output_type": "stream",
          "name": "stdout",
          "text": [
            "Restaurant: Dosa Corner, Similarity Score: 0.6092101946177133\n",
            "Restaurant: South Ruchi'S, Similarity Score: 0.5415554774315039\n",
            "Restaurant: Me & U, Similarity Score: 0.5150938107728498\n",
            "Restaurant: Saravana South Indian Cafe, Similarity Score: 0.5086198935840414\n",
            "Restaurant: Bakya Veg Restaurant, Similarity Score: 0.5024619233432457\n",
            "Restaurant: Sangeetha Veg Restaurant, Similarity Score: 0.5024619233432457\n",
            "Restaurant: Hotel Kanthaa'S, Similarity Score: 0.48408781489681957\n",
            "Restaurant: South Indian Restaurant, Similarity Score: 0.4783126335365336\n",
            "Restaurant: The Fast Food, Similarity Score: 0.45854866648081843\n"
          ]
        }
      ]
    },
    {
      "cell_type": "markdown",
      "source": [
        "**HERE YOU CAN SEARCH RESTURANT BY APPLING FILTER ACCORDING TO YOUR NEED**."
      ],
      "metadata": {
        "id": "NH0NRH-N96GX"
      }
    },
    {
      "cell_type": "code",
      "source": [
        "# Clean and preprocess data\n",
        "features = ['Restaurant', 'Food type', 'Avg ratings', 'Price', 'City']\n",
        "df = df.dropna(subset=features)\n",
        "df['combined_features'] = df[features].apply(lambda row: ' '.join(row.values.astype(str)), axis=1)"
      ],
      "metadata": {
        "id": "wHfLF7A07jBO"
      },
      "execution_count": 21,
      "outputs": []
    },
    {
      "cell_type": "code",
      "source": [
        "# Create TF-IDF vectors for the combined features\n",
        "tfidf_vectorizer = TfidfVectorizer(stop_words='english')\n",
        "tfidf_matrix = tfidf_vectorizer.fit_transform(df['combined_features'])"
      ],
      "metadata": {
        "id": "5nRKv0bg7qb3"
      },
      "execution_count": 22,
      "outputs": []
    },
    {
      "cell_type": "code",
      "source": [
        "def recommend_restaurant(city, price, avg_ratings, food_type):\n",
        "    # Create input string similar to the combined_features in the dataset\n",
        "    input_str = f\"{city} {price} {avg_ratings} {food_type}\"\n",
        "    # Transform the input using the same TF-IDF vectorizer\n",
        "    input_vector = tfidf_vectorizer.transform([input_str])\n",
        "    # Calculate cosine similarity between input and all restaurants\n",
        "    cosine_similarities = linear_kernel(input_vector, tfidf_matrix).flatten()\n",
        "\n",
        "    # Sort restaurants based on similarity scores\n",
        "    sorted_restaurants = sorted(list(enumerate(cosine_similarities)), key=lambda x: x[1], reverse=True)\n",
        "    # Print top recommendation\n",
        "    top_recommendation_index = sorted_restaurants[0][0]\n",
        "    top_recommendation_restaurant = df.iloc[top_recommendation_index]['Restaurant']\n",
        "\n",
        "    return top_recommendation_restaurant\n"
      ],
      "metadata": {
        "id": "BrUNZZE17tTB"
      },
      "execution_count": 31,
      "outputs": []
    },
    {
      "cell_type": "code",
      "source": [
        "# Get user input\n",
        "city_input = input(\"Enter city: \")\n",
        "price_input = input(\"Enter price: \")\n",
        "avg_ratings_input = input(\"Enter average ratings: \")\n",
        "food_type_input = input(\"Enter food type: \")\n",
        "\n",
        "# Get recommendation\n",
        "recommended_restaurant = recommend_restaurant(city_input, price_input, avg_ratings_input, food_type_input)\n",
        "\n",
        "# Print recommendation\n",
        "print(f\"Recommended Restaurant: {recommended_restaurant}\")"
      ],
      "metadata": {
        "colab": {
          "base_uri": "https://localhost:8080/"
        },
        "id": "ejHq2gHO8Q8L",
        "outputId": "0f0844a9-a361-48e3-a3dc-9c29afeb4f55"
      },
      "execution_count": 32,
      "outputs": [
        {
          "output_type": "stream",
          "name": "stdout",
          "text": [
            "Enter city: Bangalore\n",
            "Enter price: 200\n",
            "Enter average ratings: 4.4\n",
            "Enter food type: Chinese\n",
            "Recommended Restaurant: Chinese Bistro\n"
          ]
        }
      ]
    }
  ]
}